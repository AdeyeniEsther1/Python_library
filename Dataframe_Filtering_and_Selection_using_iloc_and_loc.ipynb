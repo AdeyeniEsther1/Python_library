{
 "cells": [
  {
   "cell_type": "markdown",
   "id": "6d0700bd-74a7-410a-9d37-4faea41405c5",
   "metadata": {},
   "source": [
    "## In this exercise, I will work with a dataset called \"employee info\" that contains information about employees in a company. The dataset includes columns such as Name, Department, Age, Gender, Salary, and Experience.\n",
    "\n",
    "\n",
    "## Instructions\n",
    "\n",
    "Create a dataframe called \"employee_df\" with the following data:\n",
    "\n",
    "import pandas as pd\n",
    "\n",
    "data = {'Name': ['John', 'Mary', 'Bob', 'Sarah', 'Tom', 'Lisa'], 'Department': ['IT', 'Marketing', 'Sales', 'IT', 'Finance', 'Marketing'], 'Age': [30, 40, 25, 35, 45, 28], 'Gender': ['Male', 'Female', 'Male', 'Female', 'Male', 'Female'], 'Salary': [50000, 60000, 45000, 55000, 70000, 55000], 'Experience': [3, 7, 2, 5, 10, 4]}\n",
    "\n",
    " employee_df = pd.DataFrame(data)\n",
    "\n",
    " \n",
    "\n",
    "Use the iloc method to select the first 3 rows of the dataframe.\n",
    "Use the loc method to select all rows where the Department is \"Marketing\".\n",
    "Use the iloc method to select the Age and Gender columns for the first 4 rows of the dataframe.\n",
    "Use the loc method to select the Salary and Experience columns for all rows where the Gender is \"Male\".\n",
    "Note:\n",
    "\n",
    "iloc is used for selection by index location\n",
    "loc is used for selection by label."
   ]
  },
  {
   "cell_type": "code",
   "execution_count": 41,
   "id": "d07cb985-33c9-4d4a-9d7a-acc3b1de0d18",
   "metadata": {},
   "outputs": [
    {
     "name": "stdout",
     "output_type": "stream",
     "text": [
      "    Name Department  Age  Gender  Salary  Experience\n",
      "0  John         IT   30    Male   50000           3\n",
      "1  Mary  Marketing   40  Female   60000           7\n",
      "2   Bob      Sales   25    Male   45000           2\n",
      "\n",
      "   Name Department  Age  Gender  Salary  Experience\n",
      "1  Mary  Marketing   40  Female   60000           7\n",
      "5  Lisa  Marketing   28  Female   55000           4\n",
      "\n",
      "   Age  Gender\n",
      "0   30    Male\n",
      "1   40  Female\n",
      "2   25    Male\n",
      "3   35  Female\n",
      "\n",
      "   Salary  Experience\n",
      "0   50000           3\n",
      "2   45000           2\n",
      "4   70000          10\n"
     ]
    }
   ],
   "source": [
    "import pandas as pd\n",
    "#create a dataframe called\"employee_df\"\n",
    "df= \"employee_df\"\n",
    "#create a dictionary with a variable called data\n",
    "data={\"Name\":['John','Mary','Bob','Sarah','Tom','Lisa'],\n",
    "      \"Department\":['IT','Marketing','Sales','IT','Finance','Marketing'],\n",
    "      \"Age\":[30, 40, 25, 35, 45, 28],\n",
    "      \"Gender\":['Male','Female','Male','Female','Male','Female'],\n",
    "      \"Salary\":[50000, 60000, 45000, 55000, 70000, 55000],\n",
    "      \"Experience\": [3, 7, 2, 5, 10, 4]}\n",
    "#create a dataframe from this dictionary\n",
    "employee_df = pd.DataFrame.from_dict(data)\n",
    "#use the iloc method to select the first 3 rows of the dataframe\n",
    "first_3_rows = employee_df.iloc[:3]\n",
    "#use the loc method to select all rows where the department is \"Marketing\"\n",
    "marketing_department = employee_df.loc[employee_df[\"Department\"]=='Marketing']\n",
    "#use the iloc method to select the age and gender columns for the first 4 rows of the dataframe\n",
    "age_and_gender = employee_df.iloc[:4,[2,3]]\n",
    "#use the loc method to select the salary and experience column for all rows where the gender is \"Male\".\n",
    "salary_experience_male = employee_df.loc[employee_df['Gender'] == \"Male\", ['Salary', 'Experience']]\n",
    "#print the results\n",
    "print(f\" {first_3_rows}\\n\") #first_3_rows of the data frame\n",
    "\n",
    "print(f\"{marketing_department}\\n\") #marketing department\n",
    "\n",
    "print(f\"{age_and_gender}\\n\") #age_and_gender(the first four rows)\n",
    "\n",
    "print(f\"{salary_experience_male}\") #salary and experience where the gender is male\n"
   ]
  },
  {
   "cell_type": "code",
   "execution_count": null,
   "id": "deb435df-0fc4-4062-ac41-879ed2288c54",
   "metadata": {},
   "outputs": [],
   "source": []
  }
 ],
 "metadata": {
  "kernelspec": {
   "display_name": "Python 3 (ipykernel)",
   "language": "python",
   "name": "python3"
  },
  "language_info": {
   "codemirror_mode": {
    "name": "ipython",
    "version": 3
   },
   "file_extension": ".py",
   "mimetype": "text/x-python",
   "name": "python",
   "nbconvert_exporter": "python",
   "pygments_lexer": "ipython3",
   "version": "3.12.4"
  }
 },
 "nbformat": 4,
 "nbformat_minor": 5
}
